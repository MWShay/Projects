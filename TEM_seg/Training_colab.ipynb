{
  "cells": [
    {
      "cell_type": "markdown",
      "source": [
        "## Connet to Google Drive"
      ],
      "metadata": {
        "id": "l8k2c-9l10Pa"
      }
    },
    {
      "cell_type": "code",
      "execution_count": null,
      "metadata": {
        "id": "FhzDExbrNJ2i",
        "colab": {
          "base_uri": "https://localhost:8080/"
        },
        "outputId": "c1497bc8-9792-4088-eea5-4b4cfcf2fca8"
      },
      "outputs": [
        {
          "output_type": "stream",
          "name": "stdout",
          "text": [
            "Mounted at /content/drive\n"
          ]
        }
      ],
      "source": [
        "from google.colab import drive\n",
        "drive.mount('/content/drive')"
      ]
    },
    {
      "cell_type": "markdown",
      "metadata": {
        "id": "NHLkugluFd26"
      },
      "source": [
        "## Set all the directories"
      ]
    },
    {
      "cell_type": "code",
      "execution_count": null,
      "metadata": {
        "id": "pKqFIuKOvca9"
      },
      "outputs": [],
      "source": [
        "HOME_DIR = \"/content/drive/MyDrive/data/train/\"\n",
        "\n",
        "# Folder path for sub-images\n",
        "SUB_DIR = \"/content/drive/MyDrive/data/train/sub_img/\"\n",
        "# Trained Model(parameters) path\n",
        "MODEL_DIR = \"/content/drive/MyDrive/data/model/\""
      ]
    },
    {
      "cell_type": "markdown",
      "metadata": {
        "id": "iNarxiFQFd22"
      },
      "source": [
        "### Import Libraries and Modules"
      ]
    },
    {
      "cell_type": "code",
      "execution_count": null,
      "metadata": {
        "colab": {
          "base_uri": "https://localhost:8080/"
        },
        "id": "cO-_sjS7vMvQ",
        "outputId": "682763f7-2e9e-4e4c-f87f-8d5155ca172f"
      },
      "outputs": [
        {
          "output_type": "stream",
          "name": "stdout",
          "text": [
            "Num GPUs Available:  1\n"
          ]
        }
      ],
      "source": [
        "import numpy as np\n",
        "import pandas as pd\n",
        "import matplotlib.pyplot as plt\n",
        "from pylab import *\n",
        "import json\n",
        "import cv2\n",
        "import h5py\n",
        "#import imageio\n",
        "from IPython.display import Image\n",
        "\n",
        "import os\n",
        "import tensorflow as tf\n",
        "from keras.preprocessing.image import ImageDataGenerator\n",
        "from tensorflow import keras\n",
        "from tensorflow.keras import backend as K\n",
        "from tensorflow.keras import Input, Model\n",
        "from tensorflow.keras.layers import (\n",
        "    Input,\n",
        "    Activation,\n",
        "    Conv2D,\n",
        "    Conv2DTranspose,\n",
        "    Dropout,\n",
        "    MaxPooling2D,\n",
        "    UpSampling2D,\n",
        "    concatenate\n",
        ")\n",
        "from tensorflow.keras.utils import Sequence\n",
        "from tensorflow.keras.optimizers import Adam\n",
        "from tensorflow.keras.utils import to_categorical\n",
        "from sklearn.preprocessing import MinMaxScaler\n",
        "scaler = MinMaxScaler()\n",
        "#from tensorflow.compat.v1.logging import INFO, set_verbosity\n",
        "\n",
        "#set_verbosity(INFO)\n",
        "\n",
        "K.set_image_data_format(\"channels_first\")\n",
        "\n",
        "print(\"Num GPUs Available: \", len(tf.config.list_physical_devices('GPU')))"
      ]
    },
    {
      "cell_type": "markdown",
      "source": [
        "### Check runtime type (Important)"
      ],
      "metadata": {
        "id": "I2ktGZHV5rZi"
      }
    },
    {
      "cell_type": "code",
      "source": [
        "physical_device = tf.config.experimental.list_physical_devices('GPU')\n",
        "print(f'Device found : {physical_device}')\n",
        "if len(tf.config.list_physical_devices('GPU')) == 0 :\n",
        "  print(\"No GPU enable, check the runtime type!!!\")"
      ],
      "metadata": {
        "colab": {
          "base_uri": "https://localhost:8080/"
        },
        "id": "CdEYM-i45iX4",
        "outputId": "a65de2d4-0fc2-4059-de61-a662d07f233f"
      },
      "execution_count": null,
      "outputs": [
        {
          "output_type": "stream",
          "name": "stdout",
          "text": [
            "Device found : [PhysicalDevice(name='/physical_device:GPU:0', device_type='GPU')]\n"
          ]
        }
      ]
    },
    {
      "cell_type": "markdown",
      "metadata": {
        "id": "pkCJmGuTN3uE"
      },
      "source": [
        "### Encoder(DownSampling) Block"
      ]
    },
    {
      "cell_type": "code",
      "execution_count": null,
      "metadata": {
        "id": "dCDEHRH5N3EK"
      },
      "outputs": [],
      "source": [
        "def conv_block(inputs = None, n_filters = 32, dropout_prob = 0, max_pooling = True):\n",
        "\n",
        "  \"\"\"\n",
        "    Convolutional downsampling block\n",
        "\n",
        "    Arguments:\n",
        "        inputs -- Input tensor\n",
        "        n_filters -- Number of filters for the convolutional layers\n",
        "        dropout_prob -- Dropout probability\n",
        "        max_pooling -- Use MaxPooling2D to reduce the spatial dimensions of the output volume\n",
        "    Returns:\n",
        "        next_layer, skip_connection --  Next layer and skip connection outputs\n",
        "  \"\"\"\n",
        "\n",
        "  conv = Conv2D(filters = n_filters,\n",
        "                kernel_size = 3,\n",
        "                activation = 'relu',\n",
        "                padding = 'same',\n",
        "                kernel_initializer = 'he_normal')(inputs)\n",
        "\n",
        "  conv = Conv2D(filters = n_filters,\n",
        "                kernel_size = 3,\n",
        "                activation = 'relu',\n",
        "                padding = 'same',\n",
        "                kernel_initializer = 'he_normal')(conv)\n",
        "\n",
        "  # if dropout_prob > 0 add a dropout layer, with the variable dropout_prob as parameter\n",
        "  if dropout_prob > 0:\n",
        "    conv = Dropout(dropout_prob)(conv)\n",
        "\n",
        "  # if max_pooling is True add a MaxPooling2D with 2x2 pool_size\n",
        "  if max_pooling:\n",
        "    next_layer = MaxPooling2D(2, strides = 2)(conv)\n",
        "\n",
        "  else:\n",
        "    next_layer = conv\n",
        "\n",
        "  skip_connection = conv\n",
        "\n",
        "  return next_layer, skip_connection\n"
      ]
    },
    {
      "cell_type": "markdown",
      "metadata": {
        "id": "uNGotClqa0n2"
      },
      "source": [
        "### Decoder(UpSampling) Block"
      ]
    },
    {
      "cell_type": "code",
      "execution_count": null,
      "metadata": {
        "id": "3ZJEouUBRSbE"
      },
      "outputs": [],
      "source": [
        "def upsampling_block(expansive_input, contractive_input, n_filters=32):\n",
        "  \"\"\"\n",
        "    Convolutional upsampling block\n",
        "\n",
        "    Arguments:\n",
        "        expansive_input -- Input tensor from previous layer\n",
        "        contractive_input -- Input tensor from previous skip layer\n",
        "        n_filters -- Number of filters for the convolutional layers\n",
        "    Returns:\n",
        "        conv -- Tensor output\n",
        "  \"\"\"\n",
        "\n",
        "    ### START CODE HERE\n",
        "  up = Conv2DTranspose(filters = n_filters,\n",
        "                       kernel_size = 3,\n",
        "                       strides=2,\n",
        "                       padding='same')(expansive_input)\n",
        "\n",
        "    # Merge the previous output and the contractive_input\n",
        "  #merge = concatenate([up, contractive_input], axis=3)\n",
        "  merge = concatenate([up, contractive_input], axis=1)\n",
        "  conv = Conv2D(filters = n_filters,\n",
        "                kernel_size = 3,\n",
        "                activation='relu',\n",
        "                padding='same',\n",
        "                kernel_initializer='he_normal')(merge)\n",
        "  conv = Conv2D(filters = n_filters,\n",
        "                kernel_size = 3,\n",
        "                activation='relu',\n",
        "                padding='same',\n",
        "                kernel_initializer='he_normal')(conv)\n",
        "\n",
        "  return conv"
      ]
    },
    {
      "cell_type": "markdown",
      "metadata": {
        "id": "XVmxlIUrFd28"
      },
      "source": [
        "### UNET Model"
      ]
    },
    {
      "cell_type": "code",
      "execution_count": null,
      "metadata": {
        "id": "izAwSowGFd28"
      },
      "outputs": [],
      "source": [
        "def unet_model(input_size=(256, 256, 1), n_filters=32, n_classes=1):\n",
        "    \"\"\"\n",
        "    Unet model\n",
        "\n",
        "    Arguments:\n",
        "        input_size -- Input shape\n",
        "        n_filters -- Number of filters for the convolutional layers\n",
        "        n_classes -- Number of output classes\n",
        "    Returns:\n",
        "        model -- tf.keras.Model\n",
        "    \"\"\"\n",
        "    inputs = Input(input_size)\n",
        "    # Contracting Path (encoding)\n",
        "    # Add a conv_block with the inputs of the unet_ model and n_filters\n",
        "    cblock1 = conv_block(inputs=inputs, n_filters=n_filters*1)\n",
        "    # Chain the first element of the output of each block to be the input of the next conv_block.\n",
        "    # Double the number of filters at each new step\n",
        "    cblock2 = conv_block(inputs=cblock1[0], n_filters=n_filters*2)\n",
        "    cblock3 = conv_block(inputs=cblock2[0], n_filters=n_filters*4)\n",
        "    cblock4 = conv_block(inputs=cblock3[0], n_filters=n_filters*8,dropout_prob=0.3) # Include a dropout_prob of 0.3 for this layer\n",
        "    # Include a dropout_prob of 0.3 for this layer, and avoid the max_pooling layer\n",
        "    cblock5 = conv_block(inputs=cblock4[0], n_filters=n_filters*16,dropout_prob=0.3, max_pooling=False)\n",
        "\n",
        "    # Expanding Path (decoding)\n",
        "    # Add the first upsampling_block.\n",
        "    # Use the cblock5[0] as expansive_input and cblock4[1] as contractive_input and n_filters * 8\n",
        "    ublock6 = upsampling_block(cblock5[0], cblock4[1], n_filters*8)\n",
        "    # Chain the output of the previous block as expansive_input and the corresponding contractive block output.\n",
        "    # Note that you must use the second element of the contractive block i.e before the maxpooling layer.\n",
        "    # At each step, use half the number of filters of the previous block\n",
        "    ublock7 = upsampling_block(ublock6, cblock3[1], n_filters*4)\n",
        "    ublock8 = upsampling_block(ublock7, cblock2[1], n_filters*2)\n",
        "    ublock9 = upsampling_block(ublock8, cblock1[1], n_filters*1)\n",
        "\n",
        "    conv9 = Conv2D(n_filters,\n",
        "                 3,\n",
        "                 activation='relu',\n",
        "                 padding='same',\n",
        "                 # set 'kernel_initializer' same as above exercises\n",
        "                 kernel_initializer='he_normal')(ublock9)\n",
        "\n",
        "    # Add a Conv2D layer with n_classes filter, kernel size of 1 and a 'same' padding\n",
        "    ### START CODE HERE\n",
        "    #conv10 = Conv2D(n_classes, 1, padding='same')(conv9)\n",
        "    conv10 = Conv2D(filters = 1, kernel_size = 1, data_format = 'channels_first',activation='sigmoid')(conv9)\n",
        "\n",
        "    model = tf.keras.Model(inputs=inputs, outputs=conv10)\n",
        "\n",
        "    return model"
      ]
    },
    {
      "cell_type": "markdown",
      "metadata": {
        "id": "CH3pT08XFd29"
      },
      "source": [
        "### [Edit] Model Compile and Summary\n",
        "\n",
        "Please make sure you understand the parameters/method before you change it."
      ]
    },
    {
      "cell_type": "code",
      "source": [
        "# Size of input sub_image\n",
        "input_size=(1, 256, 256) # in our case = (1, 256, 256)\n",
        "# Initial number of filter.\n",
        "n_filters=32 # Can be 32 or 64, or try another number.\n",
        "# Number of classes\n",
        "n_classes=1 # in our case = 1\n",
        "\n",
        "unet= unet_model(input_size=input_size, n_filters=n_filters, n_classes=n_classes)"
      ],
      "metadata": {
        "id": "TpyqA1t53PUb"
      },
      "execution_count": null,
      "outputs": []
    },
    {
      "cell_type": "code",
      "execution_count": null,
      "metadata": {
        "id": "YfTmkva3Fd29"
      },
      "outputs": [],
      "source": [
        "unet.compile(optimizer='adam', # This method can be changed\n",
        "              loss='binary_crossentropy', # This method can be changed\n",
        "              metrics=['BinaryIoU']) # This method can be changed\n",
        "unet.summary()"
      ]
    },
    {
      "cell_type": "markdown",
      "metadata": {
        "id": "Lg-kRHaYFd3A"
      },
      "source": [
        "## [Edit] Load model and continue Training (Optional)\n",
        "\n",
        "If training from the very beginning, skip this block"
      ]
    },
    {
      "cell_type": "code",
      "source": [
        "# Choose the model under the folder\n",
        "filename = \"Model_200epochs.h5\"\n",
        "\n",
        "from tensorflow.keras.models import load_model\n",
        "model = MODEL_DIR + filename\n",
        "print(f\"Choosen Load Model is: {model}\")\n",
        "UNET_MODEL =unet.load_weights(model)"
      ],
      "metadata": {
        "id": "FPohhUIO-miB"
      },
      "execution_count": null,
      "outputs": []
    },
    {
      "cell_type": "markdown",
      "metadata": {
        "id": "Nh1Wyus3Fd2-"
      },
      "source": [
        "### Load the Dataset\n",
        "\n",
        "This might take few minutes to complete"
      ]
    },
    {
      "cell_type": "code",
      "source": [
        "# Load X_series and y_series from files\n",
        "\n",
        "X_series = np.load(os.path.join(HOME_DIR, 'X_series.npy'))\n",
        "y_series = np.load(os.path.join(HOME_DIR, 'y_series.npy'))"
      ],
      "metadata": {
        "id": "eCEQAb3rPM2p"
      },
      "execution_count": null,
      "outputs": []
    },
    {
      "cell_type": "markdown",
      "metadata": {
        "id": "fGTPIE3rFd2_"
      },
      "source": [
        "## [Edit] Get the Training Set and Validation Set (optional)\n",
        "\n",
        "The split of training set and validation set is recommanded but optional."
      ]
    },
    {
      "cell_type": "code",
      "execution_count": null,
      "metadata": {
        "colab": {
          "base_uri": "https://localhost:8080/"
        },
        "id": "3RGyPe7MFd2_",
        "outputId": "bac98206-f1fb-42e1-9477-08f8eb4801d9"
      },
      "outputs": [
        {
          "output_type": "stream",
          "name": "stdout",
          "text": [
            "The shape of training set is: (2000, 1, 256, 256) (Number, channel, width(x-axis pixel), height(y-axis pixel))\n",
            "The shape of validation set is: (156, 1, 256, 256) (Number, channel, width(x-axis pixel), height(y-axis pixel))\n"
          ]
        }
      ],
      "source": [
        "# Define the ratio of Training Set vs Validation Set\n",
        "split_ratio = 0.072 # Normaly 0.1~0.3 depends on the richness of dataset\n",
        "\n",
        "\n",
        "\n",
        "from sklearn.model_selection import train_test_split\n",
        "X_train, X_valid, y_train, y_valid = train_test_split(X_series, y_series, test_size = split_ratio, random_state =39)\n",
        "print(f\"The shape of training set is: {X_train.shape} (Number, channel, width(x-axis pixel), height(y-axis pixel))\") #訓練集\n",
        "print(f\"The shape of validation set is: {X_valid.shape} (Number, channel, width(x-axis pixel), height(y-axis pixel))\")  #驗證集"
      ]
    },
    {
      "cell_type": "markdown",
      "metadata": {
        "id": "Rx-H5zeiFd2_"
      },
      "source": [
        "## [Edit] Set the Training Parameters:"
      ]
    },
    {
      "cell_type": "code",
      "source": [
        "# Set the size of batch for each input\n",
        "batch_size = 8 # Can chagne to 1,2,4,16 or another nubmer\n",
        "\n",
        "# Set the number of epochs\n",
        "n_epochs = 10 #迭代\n",
        "\n",
        "# Set the saving period(unit: epoch)\n",
        "save_period = 5 # each number of trained epochs the model will save the weights(model) automatically\n",
        "\n",
        "## 'steps_per_epoch' was removed due to potential bug in tensorflow,\n",
        "## consider add it back in the future if the bug is fixed.\n",
        "#steps_per_epoch=X_train.shape[0] // batch_size"
      ],
      "metadata": {
        "id": "X4Ftavvf9SkU"
      },
      "execution_count": null,
      "outputs": []
    },
    {
      "cell_type": "code",
      "execution_count": null,
      "metadata": {
        "colab": {
          "base_uri": "https://localhost:8080/"
        },
        "id": "NGAJzCS5Fd3A",
        "outputId": "4e066fa9-6299-4af4-c556-26fd5da75d16"
      },
      "outputs": [
        {
          "output_type": "stream",
          "name": "stderr",
          "text": [
            "WARNING:tensorflow:`period` argument is deprecated. Please use `save_freq` to specify the frequency in number of batches seen.\n"
          ]
        },
        {
          "output_type": "stream",
          "name": "stdout",
          "text": [
            "Directory of the saved model: /content/drive/MyDrive/data/model/\n"
          ]
        }
      ],
      "source": [
        "from tensorflow.keras.callbacks import ModelCheckpoint,  LearningRateScheduler\n",
        "\n",
        "# set the filename pattern for the model weights\n",
        "filename = \"Model_weights_-{epoch:02d}.h5\"\n",
        "\n",
        "# set the full filepath for the model weights\n",
        "filepath = os.path.join(MODEL_DIR, filename)\n",
        "print(f\"Directory of the saved model: {MODEL_DIR}\")\n",
        "\n",
        "# 建立 ModelCheckpoint 回調函數\n",
        "# 訓練模型時使用 callbacks 參數指定 ModelCheckpoint 回調函數\n",
        "checkpoint = ModelCheckpoint(\n",
        "    filepath,\n",
        "    monitor='val_loss',\n",
        "    verbose=1,\n",
        "    save_best_only=False,\n",
        "    save_weights_only=True,\n",
        "    mode='auto',\n",
        "    save_freq='epoch',\n",
        "    period=save_period\n",
        ")"
      ]
    },
    {
      "cell_type": "code",
      "source": [],
      "metadata": {
        "id": "hSCxwnO3-tGD"
      },
      "execution_count": null,
      "outputs": []
    },
    {
      "cell_type": "markdown",
      "metadata": {
        "id": "PsmxMR2nFd3A"
      },
      "source": [
        "## [Edit] Start/Continue the Training"
      ]
    },
    {
      "cell_type": "code",
      "execution_count": null,
      "metadata": {
        "colab": {
          "base_uri": "https://localhost:8080/"
        },
        "id": "0wXbZmA3Fd3A",
        "outputId": "6082a9c7-a557-4ed5-d84b-353b659570cf"
      },
      "outputs": [
        {
          "output_type": "stream",
          "name": "stdout",
          "text": [
            "Epoch 1/10\n",
            "250/250 [==============================] - 74s 200ms/step - loss: 0.3262 - binary_io_u: 0.6672 - val_loss: 0.2489 - val_binary_io_u: 0.7340\n",
            "Epoch 2/10\n",
            "250/250 [==============================] - 45s 179ms/step - loss: 0.2526 - binary_io_u: 0.7278 - val_loss: 0.2391 - val_binary_io_u: 0.7438\n",
            "Epoch 3/10\n",
            "250/250 [==============================] - 44s 177ms/step - loss: 0.3652 - binary_io_u: 0.6103 - val_loss: 0.2905 - val_binary_io_u: 0.7021\n",
            "Epoch 4/10\n",
            "250/250 [==============================] - 44s 175ms/step - loss: 0.2646 - binary_io_u: 0.7169 - val_loss: 0.2458 - val_binary_io_u: 0.7356\n",
            "Epoch 5/10\n",
            "250/250 [==============================] - ETA: 0s - loss: 0.2502 - binary_io_u: 0.7284\n",
            "Epoch 5: saving model to /content/drive/MyDrive/data/model/Model_weights_-05.h5\n",
            "250/250 [==============================] - 44s 177ms/step - loss: 0.2502 - binary_io_u: 0.7284 - val_loss: 0.2431 - val_binary_io_u: 0.7257\n",
            "Epoch 6/10\n",
            "250/250 [==============================] - 44s 175ms/step - loss: 0.2465 - binary_io_u: 0.7316 - val_loss: 0.2416 - val_binary_io_u: 0.7301\n",
            "Epoch 7/10\n",
            "250/250 [==============================] - 44s 176ms/step - loss: 0.2435 - binary_io_u: 0.7347 - val_loss: 0.2347 - val_binary_io_u: 0.7451\n",
            "Epoch 8/10\n",
            "250/250 [==============================] - 44s 176ms/step - loss: 0.2403 - binary_io_u: 0.7378 - val_loss: 0.2342 - val_binary_io_u: 0.7373\n",
            "Epoch 9/10\n",
            "250/250 [==============================] - 44s 177ms/step - loss: 0.2383 - binary_io_u: 0.7394 - val_loss: 0.2311 - val_binary_io_u: 0.7503\n",
            "Epoch 10/10\n",
            "250/250 [==============================] - ETA: 0s - loss: 0.2440 - binary_io_u: 0.7350\n",
            "Epoch 10: saving model to /content/drive/MyDrive/data/model/Model_weights_-10.h5\n",
            "250/250 [==============================] - 44s 177ms/step - loss: 0.2440 - binary_io_u: 0.7350 - val_loss: 0.2314 - val_binary_io_u: 0.7466\n"
          ]
        }
      ],
      "source": [
        "history = unet.fit(\n",
        "        x=X_train,\n",
        "        y=y_train,\n",
        "        #steps_per_epoch=steps_per_epoch,\n",
        "        shuffle = True,\n",
        "        batch_size = batch_size,\n",
        "        validation_data = (X_valid, y_valid),\n",
        "        epochs = n_epochs,\n",
        "        use_multiprocessing = True,\n",
        "        verbose = 1,\n",
        "        callbacks=[checkpoint]\n",
        "        )"
      ]
    },
    {
      "cell_type": "markdown",
      "source": [
        "## [Edit] Save the trained Model/Weights"
      ],
      "metadata": {
        "id": "RlFuf8dLAS6d"
      }
    },
    {
      "cell_type": "code",
      "source": [
        "# Define the model name\n",
        "model_name = \"try2_10epochs.h5\" #end with .h5 as filetype\n",
        "\n",
        "unet.save_weights(MODEL_DIR + model_name)\n",
        "\n",
        "print(f\"Model saved to {MODEL_DIR}\")"
      ],
      "metadata": {
        "id": "x0zwfRljAcDi"
      },
      "execution_count": null,
      "outputs": []
    },
    {
      "cell_type": "markdown",
      "source": [
        "## Plot the training history"
      ],
      "metadata": {
        "id": "SEmSyOELBAe0"
      }
    },
    {
      "cell_type": "code",
      "execution_count": null,
      "metadata": {
        "id": "spkxOviPwFl8",
        "outputId": "a3c314f5-d80b-4b96-e7ff-5c6ba4694def",
        "colab": {
          "base_uri": "https://localhost:8080/",
          "height": 472
        }
      },
      "outputs": [
        {
          "output_type": "display_data",
          "data": {
            "text/plain": [
              "<Figure size 640x480 with 1 Axes>"
            ],
            "image/png": "[encoded data removed]"
          },
          "metadata": {}
        }
      ],
      "source": [
        "\n",
        "# Plot the training loss and accuracy\n",
        "plt.plot(history.history['loss'],)\n",
        "plt.plot(history.history['val_loss'],'--')\n",
        "plt.plot(history.history['binary_io_u'],'-.')\n",
        "plt.plot(history.history['val_binary_io_u'],':')\n",
        "\n",
        "# Add labels and title\n",
        "plt.title('UNET Model Training Loss and BinaryIoU')\n",
        "plt.xlabel('Epoch')\n",
        "plt.ylabel('Loss:binaryCrossEntropy / BinaryIoU')\n",
        "#plt.legend(['Loss', 'Val_Loss', 'Dice Coefficient', 'Val_Dice Coefficient'], loc='center right')\n",
        "plt.legend(['Loss:BinaryCrossEntropy','VAL_Loss:BinaryCrossEntropy','BinaryIoU','VAL_BinaryIoU'], loc='center right')\n",
        "\n",
        "# Show the plot\n",
        "plt.show()"
      ]
    },
    {
      "cell_type": "markdown",
      "source": [
        "## Save the training history (optional)\n",
        "\n",
        "Only execute this block for saving training history data"
      ],
      "metadata": {
        "id": "OhkeULFwAxWB"
      }
    },
    {
      "cell_type": "code",
      "execution_count": null,
      "metadata": {
        "id": "imt4Mmo0Fd3D"
      },
      "outputs": [],
      "source": [
        "import pandas as pd\n",
        "\n",
        "# convert the history.history dict to a pandas DataFrame:\n",
        "hist_df = pd.DataFrame(history.history)\n",
        "\n",
        "# Save as json:\n",
        "hist_json_file = 'history.json'\n",
        "with open(MODEL_DIR + hist_json_file, mode='w') as f:\n",
        "    hist_df.to_json(f)\n",
        "\n",
        "# Save as csv:\n",
        "hist_csv_file = 'history.csv'\n",
        "with open(MODEL_DIR + hist_csv_file, mode='w') as f:\n",
        "    hist_df.to_csv(f)\n",
        "\n",
        "print(f\"Training history data saved to {MODEL_DIR}\")"
      ]
    },
    {
      "cell_type": "code",
      "execution_count": null,
      "metadata": {
        "id": "j1KvPmADFd3I"
      },
      "outputs": [],
      "source": []
    }
  ],
  "metadata": {
    "colab": {
      "provenance": [],
      "gpuType": "T4",
      "collapsed_sections": [
        "iNarxiFQFd22",
        "pkCJmGuTN3uE",
        "uNGotClqa0n2",
        "XVmxlIUrFd28"
      ]
    },
    "kernelspec": {
      "display_name": "Python 3",
      "name": "python3"
    },
    "language_info": {
      "codemirror_mode": {
        "name": "ipython",
        "version": 3
      },
      "file_extension": ".py",
      "mimetype": "text/x-python",
      "name": "python",
      "nbconvert_exporter": "python",
      "pygments_lexer": "ipython3",
      "version": "3.10.8"
    },
    "accelerator": "GPU"
  },
  "nbformat": 4,
  "nbformat_minor": 0
}